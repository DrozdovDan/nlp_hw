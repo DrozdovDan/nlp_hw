{
 "cells": [
  {
   "cell_type": "code",
   "execution_count": 1,
   "metadata": {
    "id": "sVGBTApqf0d0"
   },
   "outputs": [],
   "source": [
    "import numpy as np\n",
    "import pandas as pd\n",
    "import matplotlib.pyplot as plt\n",
    "%matplotlib inline"
   ]
  },
  {
   "cell_type": "markdown",
   "metadata": {
    "id": "mEZ0ffOff0d2"
   },
   "source": [
    "### Загрузить датасет [1 балл]"
   ]
  },
  {
   "cell_type": "code",
   "execution_count": 2,
   "metadata": {
    "id": "5PYNlYm0f0d5",
    "outputId": "ab2a7207-8698-4385-c611-0a9ba535e8cc"
   },
   "outputs": [
    {
     "name": "stdout",
     "output_type": "stream",
     "text": [
      "--2025-03-31 18:40:35--  https://www.dropbox.com/s/99az9n1b57qkd9j/arxivData.json.tar.gz?dl=1\n",
      "162.125.70.18, 2620:100:6026:18::a27d:4612)... \n",
      "connected. to www.dropbox.com (www.dropbox.com)|162.125.70.18|:443... \n",
      "HTTP request sent, awaiting response... 302 Found\n",
      "Location: https://www.dropbox.com/scl/fi/0mulrothty5o8i8ud9gz2/arxivData.json.tar.gz?rlkey=n759u5qx2xpxxglmrl390vwvk&dl=1 [following]\n",
      "--2025-03-31 18:40:36--  https://www.dropbox.com/scl/fi/0mulrothty5o8i8ud9gz2/arxivData.json.tar.gz?rlkey=n759u5qx2xpxxglmrl390vwvk&dl=1\n",
      "Reusing existing connection to www.dropbox.com:443.\n",
      "302 Foundest sent, awaiting response... \n",
      "Location: https://uc2226620dcc83aa488f37cf08d3.dl.dropboxusercontent.com/cd/0/inline/Cm76fy8MsTJKkwVPj2e4lsgGkUmhCDbyhZxzj4vAuNo1VRH-P5zEYUEDSFMuQZqp-R9yA8ztNh7pBfHQVLiwWa2rvg0zB8knFFo7wfN3AzfYm1LbqSzT5iwU2p7XQ-OdVEQ/file?dl=1# [following]\n",
      "--2025-03-31 18:40:36--  https://uc2226620dcc83aa488f37cf08d3.dl.dropboxusercontent.com/cd/0/inline/Cm76fy8MsTJKkwVPj2e4lsgGkUmhCDbyhZxzj4vAuNo1VRH-P5zEYUEDSFMuQZqp-R9yA8ztNh7pBfHQVLiwWa2rvg0zB8knFFo7wfN3AzfYm1LbqSzT5iwU2p7XQ-OdVEQ/file?dl=1\n",
      "162.125.70.15, 2620:100:6026:15::a27d:460fdropboxusercontent.com (uc2226620dcc83aa488f37cf08d3.dl.dropboxusercontent.com)... \n",
      "Connecting to uc2226620dcc83aa488f37cf08d3.dl.dropboxusercontent.com (uc2226620dcc83aa488f37cf08d3.dl.dropboxusercontent.com)|162.125.70.15|:443... connected.\n",
      "HTTP request sent, awaiting response... 302 Found\n",
      "Location: /cd/0/inline2/Cm4YZZuIZKDCGWLkQG2SgnQyIAYx0oiqKeGzaoMK8Vroj8TVfnA67FTl_7r9yg57lDZ_kBJfG2ZUBkztOAjmTIjeD2xH9rm4HofHkFDrQd5JdE2QecwnjQN7Vi_XW_CVsbxpQDGqzJ_RDueZ2SK3zTc5ugPKAUJTU6_ccCMU5NDMcYwPeVQjmm_tSTkQ_UG4r9r5ISWVGo-MNuPCtY_v0TZUSqbS6ntGArYxtpLv-DiWCJTrtbAqUaz7FTmyPKw0C4Y3cmc_9FSSfFvGGeYDipf30lBiShQGHVehBKjFKowDHplqa3VrCeJ2CYPDrdT4pu919Z5qrKcDuX1zD476tjmmcOupZ23ODtV5oZC1dZBjaw/file?dl=1 [following]\n",
      "--2025-03-31 18:40:37--  https://uc2226620dcc83aa488f37cf08d3.dl.dropboxusercontent.com/cd/0/inline2/Cm4YZZuIZKDCGWLkQG2SgnQyIAYx0oiqKeGzaoMK8Vroj8TVfnA67FTl_7r9yg57lDZ_kBJfG2ZUBkztOAjmTIjeD2xH9rm4HofHkFDrQd5JdE2QecwnjQN7Vi_XW_CVsbxpQDGqzJ_RDueZ2SK3zTc5ugPKAUJTU6_ccCMU5NDMcYwPeVQjmm_tSTkQ_UG4r9r5ISWVGo-MNuPCtY_v0TZUSqbS6ntGArYxtpLv-DiWCJTrtbAqUaz7FTmyPKw0C4Y3cmc_9FSSfFvGGeYDipf30lBiShQGHVehBKjFKowDHplqa3VrCeJ2CYPDrdT4pu919Z5qrKcDuX1zD476tjmmcOupZ23ODtV5oZC1dZBjaw/file?dl=1\n",
      "Reusing existing connection to uc2226620dcc83aa488f37cf08d3.dl.dropboxusercontent.com:443.\n",
      "200 OKequest sent, awaiting response... \n",
      "Length: 18933283 (18M) [application/binary]\n",
      "Saving to: ‘arxivData.json.tar.gz’\n",
      "\n",
      "arxivData.json.tar. 100%[===================>]  18.06M  10.0MB/s    in 1.8s    \n",
      "\n",
      "2025-03-31 18:40:40 (10.0 MB/s) - ‘arxivData.json.tar.gz’ saved [18933283/18933283]\n",
      "\n",
      "arxivData.json\n"
     ]
    },
    {
     "data": {
      "text/html": [
       "<div>\n",
       "<style scoped>\n",
       "    .dataframe tbody tr th:only-of-type {\n",
       "        vertical-align: middle;\n",
       "    }\n",
       "\n",
       "    .dataframe tbody tr th {\n",
       "        vertical-align: top;\n",
       "    }\n",
       "\n",
       "    .dataframe thead th {\n",
       "        text-align: right;\n",
       "    }\n",
       "</style>\n",
       "<table border=\"1\" class=\"dataframe\">\n",
       "  <thead>\n",
       "    <tr style=\"text-align: right;\">\n",
       "      <th></th>\n",
       "      <th>author</th>\n",
       "      <th>day</th>\n",
       "      <th>id</th>\n",
       "      <th>link</th>\n",
       "      <th>month</th>\n",
       "      <th>summary</th>\n",
       "      <th>tag</th>\n",
       "      <th>title</th>\n",
       "      <th>year</th>\n",
       "    </tr>\n",
       "  </thead>\n",
       "  <tbody>\n",
       "    <tr>\n",
       "      <th>16830</th>\n",
       "      <td>[{'name': 'John J. Camilleri'}, {'name': 'Norm...</td>\n",
       "      <td>15</td>\n",
       "      <td>1706.04997v1</td>\n",
       "      <td>[{'rel': 'alternate', 'href': 'http://arxiv.or...</td>\n",
       "      <td>6</td>\n",
       "      <td>We are concerned with the analysis of normativ...</td>\n",
       "      <td>[{'term': 'cs.CL', 'scheme': 'http://arxiv.org...</td>\n",
       "      <td>Extracting Formal Models from Normative Texts</td>\n",
       "      <td>2017</td>\n",
       "    </tr>\n",
       "    <tr>\n",
       "      <th>31463</th>\n",
       "      <td>[{'name': 'Xiao Song'}, {'name': 'Xu Zhao'}, {...</td>\n",
       "      <td>13</td>\n",
       "      <td>1803.04722v1</td>\n",
       "      <td>[{'rel': 'related', 'href': 'http://dx.doi.org...</td>\n",
       "      <td>3</td>\n",
       "      <td>Robust features are of vital importance to fac...</td>\n",
       "      <td>[{'term': 'cs.CV', 'scheme': 'http://arxiv.org...</td>\n",
       "      <td>Face Spoofing Detection by Fusing Binocular De...</td>\n",
       "      <td>2018</td>\n",
       "    </tr>\n",
       "    <tr>\n",
       "      <th>9017</th>\n",
       "      <td>[{'name': 'Alexander Herzog'}, {'name': 'Slava...</td>\n",
       "      <td>15</td>\n",
       "      <td>1708.04557v1</td>\n",
       "      <td>[{'rel': 'alternate', 'href': 'http://arxiv.or...</td>\n",
       "      <td>8</td>\n",
       "      <td>We present a database of parliamentary debates...</td>\n",
       "      <td>[{'term': 'cs.CL', 'scheme': 'http://arxiv.org...</td>\n",
       "      <td>Database of Parliamentary Speeches in Ireland,...</td>\n",
       "      <td>2017</td>\n",
       "    </tr>\n",
       "    <tr>\n",
       "      <th>38390</th>\n",
       "      <td>[{'name': 'Rishab Nithyanand'}, {'name': 'Bria...</td>\n",
       "      <td>6</td>\n",
       "      <td>1706.01875v2</td>\n",
       "      <td>[{'rel': 'alternate', 'href': 'http://arxiv.or...</td>\n",
       "      <td>6</td>\n",
       "      <td>The Internet and online forums such as Reddit ...</td>\n",
       "      <td>[{'term': 'cs.CL', 'scheme': 'http://arxiv.org...</td>\n",
       "      <td>Measuring Offensive Speech in Online Political...</td>\n",
       "      <td>2017</td>\n",
       "    </tr>\n",
       "    <tr>\n",
       "      <th>5301</th>\n",
       "      <td>[{'name': 'Tatjana Pavlenko'}, {'name': 'Dietr...</td>\n",
       "      <td>12</td>\n",
       "      <td>1301.0593v1</td>\n",
       "      <td>[{'rel': 'alternate', 'href': 'http://arxiv.or...</td>\n",
       "      <td>12</td>\n",
       "      <td>We present a growing dimension asymptotic form...</td>\n",
       "      <td>[{'term': 'cs.LG', 'scheme': 'http://arxiv.org...</td>\n",
       "      <td>Bayesian Network Classifiers in a High Dimensi...</td>\n",
       "      <td>2012</td>\n",
       "    </tr>\n",
       "  </tbody>\n",
       "</table>\n",
       "</div>"
      ],
      "text/plain": [
       "                                                  author  day            id  \\\n",
       "16830  [{'name': 'John J. Camilleri'}, {'name': 'Norm...   15  1706.04997v1   \n",
       "31463  [{'name': 'Xiao Song'}, {'name': 'Xu Zhao'}, {...   13  1803.04722v1   \n",
       "9017   [{'name': 'Alexander Herzog'}, {'name': 'Slava...   15  1708.04557v1   \n",
       "38390  [{'name': 'Rishab Nithyanand'}, {'name': 'Bria...    6  1706.01875v2   \n",
       "5301   [{'name': 'Tatjana Pavlenko'}, {'name': 'Dietr...   12   1301.0593v1   \n",
       "\n",
       "                                                    link  month  \\\n",
       "16830  [{'rel': 'alternate', 'href': 'http://arxiv.or...      6   \n",
       "31463  [{'rel': 'related', 'href': 'http://dx.doi.org...      3   \n",
       "9017   [{'rel': 'alternate', 'href': 'http://arxiv.or...      8   \n",
       "38390  [{'rel': 'alternate', 'href': 'http://arxiv.or...      6   \n",
       "5301   [{'rel': 'alternate', 'href': 'http://arxiv.or...     12   \n",
       "\n",
       "                                                 summary  \\\n",
       "16830  We are concerned with the analysis of normativ...   \n",
       "31463  Robust features are of vital importance to fac...   \n",
       "9017   We present a database of parliamentary debates...   \n",
       "38390  The Internet and online forums such as Reddit ...   \n",
       "5301   We present a growing dimension asymptotic form...   \n",
       "\n",
       "                                                     tag  \\\n",
       "16830  [{'term': 'cs.CL', 'scheme': 'http://arxiv.org...   \n",
       "31463  [{'term': 'cs.CV', 'scheme': 'http://arxiv.org...   \n",
       "9017   [{'term': 'cs.CL', 'scheme': 'http://arxiv.org...   \n",
       "38390  [{'term': 'cs.CL', 'scheme': 'http://arxiv.org...   \n",
       "5301   [{'term': 'cs.LG', 'scheme': 'http://arxiv.org...   \n",
       "\n",
       "                                                   title  year  \n",
       "16830      Extracting Formal Models from Normative Texts  2017  \n",
       "31463  Face Spoofing Detection by Fusing Binocular De...  2018  \n",
       "9017   Database of Parliamentary Speeches in Ireland,...  2017  \n",
       "38390  Measuring Offensive Speech in Online Political...  2017  \n",
       "5301   Bayesian Network Classifiers in a High Dimensi...  2012  "
      ]
     },
     "execution_count": 2,
     "metadata": {},
     "output_type": "execute_result"
    }
   ],
   "source": [
    "# Alternative manual download link: https://yadi.sk/d/_nGyU2IajjR9-w\n",
    "!wget \"https://www.dropbox.com/s/99az9n1b57qkd9j/arxivData.json.tar.gz?dl=1\" -O arxivData.json.tar.gz\n",
    "!tar -xvzf arxivData.json.tar.gz\n",
    "data = pd.read_json(\"./arxivData.json\")\n",
    "data.sample(n=5)"
   ]
  },
  {
   "cell_type": "markdown",
   "metadata": {
    "id": "BfPLcf-nf0d8"
   },
   "source": [
    "Немножко запрепроцессим данные"
   ]
  },
  {
   "cell_type": "code",
   "execution_count": 3,
   "metadata": {
    "id": "Iu2o1JkXf0d9",
    "outputId": "4e246c5e-22ec-4c29-f0a7-23de5d484daf"
   },
   "outputs": [
    {
     "data": {
      "text/plain": [
       "['Differential Contrastive Divergence ; This paper has been retracted.',\n",
       " 'What Does Artificial Life Tell Us About Death? ; Short philosophical essay',\n",
       " 'P=NP ; We claim to resolve the P=?NP problem via a formal argument for P=NP.']"
      ]
     },
     "execution_count": 3,
     "metadata": {},
     "output_type": "execute_result"
    }
   ],
   "source": [
    "lines = data.apply(lambda row: row['title'] + ' ; ' + row['summary'], axis=1).tolist()\n",
    "\n",
    "sorted(lines, key=len)[:3]"
   ]
  },
  {
   "cell_type": "code",
   "execution_count": 4,
   "metadata": {
    "id": "Y7wM8CNkf0eC"
   },
   "outputs": [],
   "source": [
    "from nltk.tokenize import WordPunctTokenizer\n",
    "\n",
    "tk = WordPunctTokenizer()\n",
    "lines = [' '.join(tk.tokenize(line.lower().replace('\\n', ' '))) for line in lines] # Tokenize, replace \\n with space, lower sentence and join using space"
   ]
  },
  {
   "cell_type": "code",
   "execution_count": 5,
   "metadata": {
    "id": "YoTjpDIbf0eC",
    "outputId": "15ecc1ef-1b7a-49c8-ec4b-057506e2adfd"
   },
   "outputs": [
    {
     "data": {
      "text/plain": [
       "'differential contrastive divergence ; this paper has been retracted .'"
      ]
     },
     "execution_count": 5,
     "metadata": {},
     "output_type": "execute_result"
    }
   ],
   "source": [
    "sorted(lines, key=len)[0]"
   ]
  },
  {
   "cell_type": "code",
   "execution_count": 6,
   "metadata": {
    "id": "EzCL1rvff0eC"
   },
   "outputs": [],
   "source": [
    "assert sorted(lines, key=len)[0] == \\\n",
    "    'differential contrastive divergence ; this paper has been retracted .'\n",
    "assert sorted(lines, key=len)[2] == \\\n",
    "    'p = np ; we claim to resolve the p =? np problem via a formal argument for p = np .'"
   ]
  },
  {
   "cell_type": "markdown",
   "metadata": {
    "id": "Htqk44H4f0eD"
   },
   "source": [
    " ### Посчитаем все возможные n граммы [2 балла]"
   ]
  },
  {
   "cell_type": "code",
   "execution_count": 7,
   "metadata": {
    "id": "mUzbMXL3f0eD"
   },
   "outputs": [],
   "source": [
    "from tqdm.auto import tqdm\n",
    "from collections import defaultdict, Counter, deque\n",
    "from typing import List, Dict\n",
    "\n",
    "# special tokens:\n",
    "# - unk represents absent tokens,\n",
    "# - eos is a special token after the end of sequence\n",
    "\n",
    "UNK, EOS = \"_UNK_\", \"_EOS_\"\n",
    "\n",
    "def count_ngrams(lines: List[str], n: int):\n",
    "    \"\"\"\n",
    "    Count how many times each word occured after (n - 1) previous words\n",
    "    :param lines: an iterable of strings with space-separated tokens\n",
    "    :returns: a dictionary { tuple(prefix_tokens): {next_token_1: count_1, next_token_2: count_2}}\n",
    "\n",
    "    When building counts, please consider the following two edge cases\n",
    "    - if prefix is shorter than (n - 1) tokens, it should be padded with UNK. For n=3,\n",
    "      empty prefix: \"\" -> (UNK, UNK)\n",
    "      short prefix: \"the\" -> (UNK, the)\n",
    "      long prefix: \"the new approach\" -> (new, approach)\n",
    "    - you should add a special token, EOS, at the end of each sequence\n",
    "      \"... with deep neural networks .\" -> (..., with, deep, neural, networks, ., EOS)\n",
    "      count the probability of this token just like all others.\n",
    "    \"\"\"\n",
    "    counts = defaultdict(Counter)\n",
    "\n",
    "    for line in lines:\n",
    "        tokens = line.split(' ')\n",
    "        tokens.append(EOS)\n",
    "        prefix = deque([UNK for _ in range(n - 1)])\n",
    "        for token in tokens:\n",
    "            counts[tuple(prefix)][token] += 1\n",
    "            prefix.popleft()\n",
    "            prefix.append(token)\n",
    "\n",
    "    return counts\n"
   ]
  },
  {
   "cell_type": "code",
   "execution_count": 8,
   "metadata": {
    "id": "D_kBo9o8f0eF"
   },
   "outputs": [],
   "source": [
    "# let's test it\n",
    "dummy_lines = sorted(lines, key=len)[:100]\n",
    "dummy_counts = count_ngrams(dummy_lines, n=3)\n",
    "assert set(map(len, dummy_counts.keys())) == {2}, \"please only count {n-1}-grams\"\n",
    "assert len(dummy_counts[('_UNK_', '_UNK_')]) == 78\n",
    "assert dummy_counts['_UNK_', 'a']['note'] == 3\n",
    "assert dummy_counts['p', '=']['np'] == 2\n",
    "assert dummy_counts['author', '.']['_EOS_'] == 1"
   ]
  },
  {
   "cell_type": "markdown",
   "metadata": {
    "id": "f_FpBKqaf0eG"
   },
   "source": [
    "### Реализовать get_possible_next_tokens и инициализацию [2 балл]"
   ]
  },
  {
   "cell_type": "code",
   "execution_count": 9,
   "metadata": {
    "id": "0oqwJn9vf0eG"
   },
   "outputs": [],
   "source": [
    "class NGramLanguageModel:\n",
    "    def __init__(self, lines, n):\n",
    "        \"\"\"\n",
    "        Train a simple count-based language model:\n",
    "        compute probabilities P(w_t | prefix) given ngram counts\n",
    "\n",
    "        :param n: computes probability of next token given (n - 1) previous words\n",
    "        :param lines: an iterable of strings with space-separated tokens\n",
    "        \"\"\"\n",
    "        assert n >= 1\n",
    "        self.n = n\n",
    "\n",
    "        counts = count_ngrams(lines, self.n)\n",
    "\n",
    "        # compute token proabilities given counts\n",
    "        self.probs = {}\n",
    "        # probs[(word1, word2)][word3] = P(word3 | word1, word2)\n",
    "\n",
    "        # populate self.probs with actual probabilities\n",
    "        for prefix, contexts in counts.items():\n",
    "            s = np.sum(list(contexts.values()))\n",
    "            self.probs[prefix] = {tok: v / s for tok, v in contexts.items()}\n",
    "\n",
    "    def get_possible_next_tokens(self, prefix) -> Dict[str, float]:\n",
    "        \"\"\"\n",
    "        :param prefix: string with space-separated prefix tokens\n",
    "        :returns: a dictionary {token : it's probability} for all tokens with positive probabilities\n",
    "        \"\"\"\n",
    "        prefix = deque(map(lambda x: UNK if not x else x,prefix.split(' ')))\n",
    "        \n",
    "        while len(prefix) < self.n - 1:\n",
    "            prefix.appendleft(UNK)\n",
    "        while len(prefix) > self.n - 1:\n",
    "            prefix.popleft()\n",
    "        return self.probs[tuple(prefix)]\n",
    "\n",
    "    def get_next_token_prob(self, prefix, next_token) -> float:\n",
    "        \"\"\"\n",
    "        :param prefix: string with space-separated prefix tokens\n",
    "        :param next_token: the next token to predict probability for\n",
    "        :returns: P(next_token|prefix) a single number, 0 <= P <= 1\n",
    "        \"\"\"\n",
    "        return self.get_possible_next_tokens(prefix).get(next_token, 0.)"
   ]
  },
  {
   "cell_type": "code",
   "execution_count": 10,
   "metadata": {
    "id": "ornS7Xs8f0eG"
   },
   "outputs": [],
   "source": [
    "dummy_lm = NGramLanguageModel(dummy_lines, n=3)\n",
    "\n",
    "p_initial = dummy_lm.get_possible_next_tokens('') # '' -> ['_UNK_', '_UNK_']\n",
    "assert np.allclose(p_initial['learning'], 0.02)\n",
    "assert np.allclose(p_initial['a'], 0.13)\n",
    "assert np.allclose(p_initial.get('meow', 0), 0)\n",
    "assert np.allclose(sum(p_initial.values()), 1)\n",
    "\n",
    "p_a = dummy_lm.get_possible_next_tokens('a') # '' -> ['_UNK_', 'a']\n",
    "assert np.allclose(p_a['machine'], 0.15384615)\n",
    "assert np.allclose(p_a['note'], 0.23076923)\n",
    "assert np.allclose(p_a.get('the', 0), 0)\n",
    "assert np.allclose(sum(p_a.values()), 1)\n",
    "\n",
    "assert np.allclose(dummy_lm.get_possible_next_tokens('a note')['on'], 1)\n",
    "assert dummy_lm.get_possible_next_tokens('a machine') == \\\n",
    "    dummy_lm.get_possible_next_tokens(\"there have always been ghosts in a machine\"), \\\n",
    "    \"your 3-gram model should only depend on 2 previous words\""
   ]
  },
  {
   "cell_type": "code",
   "execution_count": 11,
   "metadata": {
    "id": "OwuaJGmYf0eG"
   },
   "outputs": [],
   "source": [
    "lm = NGramLanguageModel(lines, n=3)"
   ]
  },
  {
   "cell_type": "markdown",
   "metadata": {
    "id": "CXrSXIO9f0eH"
   },
   "source": [
    "### Реализуйте get_next_token с сэмплингом по вероятностям и температурой. [2 балла]"
   ]
  },
  {
   "cell_type": "code",
   "execution_count": 12,
   "metadata": {
    "id": "OTbng2idf0eH"
   },
   "outputs": [],
   "source": [
    "def get_next_token(lm, prefix, temperature=1.0):\n",
    "    \"\"\"\n",
    "    return next token after prefix;\n",
    "    :param temperature: samples proportionally to lm probabilities ^ (1 / temperature)\n",
    "        if temperature == 0, always takes most likely token. Break ties arbitrarily.\n",
    "    \"\"\"\n",
    "    all_tokens = lm.get_possible_next_tokens(prefix)\n",
    "    \n",
    "    if temperature == 0:\n",
    "        max_prob = np.max(list(all_tokens.values()))\n",
    "        tokens = [tok for tok, prob in all_tokens.items() if prob == max_prob]\n",
    "        return np.random.choice(tokens)\n",
    "\n",
    "    const = np.sum([prob ** (1 / temperature) for prob in all_tokens.values()])\n",
    "    tokens_probs = [(tok, prob ** (1 / temperature) / const) for tok, prob in all_tokens.items()]\n",
    "    idx = np.random.choice(np.arange(len(tokens_probs)), p=[prob for _, prob in tokens_probs])\n",
    "    \n",
    "    return tokens_probs[idx][0]"
   ]
  },
  {
   "cell_type": "code",
   "execution_count": 13,
   "metadata": {
    "id": "OAkH3ZQnf0eH",
    "outputId": "2bc5789f-cc01-4a74-d36a-58a2dc339176"
   },
   "outputs": [
    {
     "name": "stdout",
     "output_type": "stream",
     "text": [
      "Looks nice!\n"
     ]
    }
   ],
   "source": [
    "from collections import Counter\n",
    "test_freqs = Counter([get_next_token(lm, 'there have') for _ in range(10000)])\n",
    "assert 250 < test_freqs['not'] < 450\n",
    "assert 8400 < test_freqs['been'] < 9500\n",
    "assert 1 < test_freqs['lately'] < 200\n",
    "\n",
    "test_freqs = Counter([get_next_token(lm, 'deep', temperature=1.0) for _ in range(10000)])\n",
    "assert 1500 < test_freqs['learning'] < 3000\n",
    "test_freqs = Counter([get_next_token(lm, 'deep', temperature=0.5) for _ in range(10000)])\n",
    "assert 8000 < test_freqs['learning'] < 9000\n",
    "test_freqs = Counter([get_next_token(lm, 'deep', temperature=0.0) for _ in range(10000)])\n",
    "assert test_freqs['learning'] == 10000\n",
    "\n",
    "print(\"Looks nice!\")"
   ]
  },
  {
   "cell_type": "code",
   "execution_count": 14,
   "metadata": {
    "id": "T5s5gWK1f0eH",
    "outputId": "e9ffad8a-b917-4592-b24c-937704dd51e1"
   },
   "outputs": [
    {
     "name": "stdout",
     "output_type": "stream",
     "text": [
      "artificial intelligence research . _EOS_\n"
     ]
    }
   ],
   "source": [
    "prefix = 'artificial' # <- your ideas :)\n",
    "\n",
    "for i in range(100):\n",
    "    prefix += ' ' + get_next_token(lm, prefix)\n",
    "    if prefix.endswith(EOS) or len(lm.get_possible_next_tokens(prefix)) == 0:\n",
    "        break\n",
    "\n",
    "print(prefix)"
   ]
  },
  {
   "cell_type": "code",
   "execution_count": 15,
   "metadata": {
    "id": "qWeQSXnVf0eI",
    "outputId": "a6cf4dd9-e913-4b28-f22b-93878c354f6b"
   },
   "outputs": [
    {
     "name": "stdout",
     "output_type": "stream",
     "text": [
      "bridging the gap between the two algorithms which are very robust , scalable and effective . _EOS_\n"
     ]
    }
   ],
   "source": [
    "prefix = 'bridging the' # <- more of your ideas\n",
    "\n",
    "for i in range(100):\n",
    "    prefix += ' ' + get_next_token(lm, prefix, temperature=0.5)\n",
    "    if prefix.endswith(EOS) or len(lm.get_possible_next_tokens(prefix)) == 0:\n",
    "        break\n",
    "\n",
    "print(prefix)"
   ]
  },
  {
   "cell_type": "markdown",
   "metadata": {
    "id": "5XpKPRV4dZuJ"
   },
   "source": [
    "### Также в нашей задаче может пригодиться perplexity. Добавьте её вычисление в класс `NGramLanguageModel` [1 балл]"
   ]
  },
  {
   "cell_type": "code",
   "execution_count": 16,
   "metadata": {},
   "outputs": [],
   "source": [
    "class NGramLanguageModel(NGramLanguageModel):\n",
    "\n",
    "    def perplexity(self, sentence) -> str:\n",
    "        tokens = sentence.split(' ')\n",
    "\n",
    "        probs = [self.get_next_token_prob(' '.join(tokens[max(i-self.n, 0):i]), tokens[i]) for i in range(len(tokens))]\n",
    "        \n",
    "        return 2 ** (- np.sum(np.log(probs)) / len(tokens))"
   ]
  },
  {
   "cell_type": "code",
   "execution_count": 17,
   "metadata": {},
   "outputs": [],
   "source": [
    "lm = NGramLanguageModel(lines, n=3)"
   ]
  },
  {
   "cell_type": "code",
   "execution_count": 18,
   "metadata": {},
   "outputs": [
    {
     "name": "stdout",
     "output_type": "stream",
     "text": [
      "6.303101630878864\n"
     ]
    }
   ],
   "source": [
    "print(lm.perplexity(prefix))"
   ]
  },
  {
   "cell_type": "markdown",
   "metadata": {
    "id": "ReS2truEf0eI"
   },
   "source": [
    "### Реализуйте инициализацию и get_possible_next_tokens так, чтобы получилась нграмная модель с Лапласовским сглаживанием [2 балла]"
   ]
  },
  {
   "cell_type": "code",
   "execution_count": 19,
   "metadata": {
    "id": "KgEnaSDff0eI"
   },
   "outputs": [],
   "source": [
    "class LaplaceLanguageModel(NGramLanguageModel):\n",
    "    \"\"\" this code is an example, no need to change anything \"\"\"\n",
    "    def __init__(self, lines, n, delta=1.0):\n",
    "        assert n >= 1\n",
    "        self.n = n\n",
    "        self.delta = delta\n",
    "\n",
    "        counts = count_ngrams(lines, self.n)\n",
    "\n",
    "        # compute token proabilities given counts\n",
    "        self.probs = {}\n",
    "        # probs[(word1, word2)][word3] = P(word3 | word1, word2)\n",
    "\n",
    "        # populate self.probs with actual probabilities\n",
    "        for prefix, contexts in counts.items():\n",
    "            s = np.sum(list(contexts.values()))\n",
    "            l = len(list(contexts.values()))\n",
    "            self.probs[prefix] = {tok: (v + delta) / (s + delta * l) for tok, v in contexts.items()}\n",
    "\n",
    "    def get_possible_next_tokens(self, prefix):\n",
    "        probs = super().get_possible_next_tokens(prefix)\n",
    "        constant = np.sum(list(probs.values()))\n",
    "        return {tok: prob * constant for tok, prob in probs.items()}\n",
    "\n",
    "    def get_next_token_prob(self, prefix, next_token):\n",
    "        return self.get_possible_next_tokens(prefix).get(next_token, 0.)\n"
   ]
  },
  {
   "cell_type": "code",
   "execution_count": 20,
   "metadata": {
    "id": "VpIGwULVf0eL"
   },
   "outputs": [],
   "source": [
    "lm = LaplaceLanguageModel(lines, n=3, delta=0.5)"
   ]
  },
  {
   "cell_type": "code",
   "execution_count": 21,
   "metadata": {},
   "outputs": [
    {
     "name": "stdout",
     "output_type": "stream",
     "text": [
      "bridging the gap between the source domain adaptation , and it is possible to the global optimum . _EOS_\n",
      "6.508557668547833\n"
     ]
    }
   ],
   "source": [
    "prefix = 'bridging the' # <- more of your ideas\n",
    "\n",
    "for i in range(100):\n",
    "    prefix += ' ' + get_next_token(lm, prefix, temperature=0.5)\n",
    "    if prefix.endswith(EOS) or len(lm.get_possible_next_tokens(prefix)) == 0:\n",
    "        break\n",
    "\n",
    "print(prefix)\n",
    "print(lm.perplexity(prefix))"
   ]
  },
  {
   "cell_type": "code",
   "execution_count": 22,
   "metadata": {
    "id": "aG3kRtn4f0eL"
   },
   "outputs": [],
   "source": [
    "import numpy as np\n",
    "import pandas as pd\n",
    "import matplotlib.pyplot as plt\n",
    "%matplotlib inline"
   ]
  },
  {
   "cell_type": "markdown",
   "metadata": {
    "id": "Kz8w0fLef0eM"
   },
   "source": [
    "### Будем работать с Char-Level моделями, поэтому можем позволить себе все буквы английского алфавита (даже двух регистров). [1 балл]"
   ]
  },
  {
   "cell_type": "code",
   "execution_count": 23,
   "metadata": {
    "id": "0zWH-Zbmf0eM"
   },
   "outputs": [],
   "source": [
    "BOS, EOS = ' ', '\\n'\n",
    "\n",
    "data = pd.read_json(\"./arxivData.json\")\n",
    "lines = data.apply(lambda row: (row['title'] + ' ; ' + row['summary'])[:512], axis=1) \\\n",
    "            .apply(lambda line: BOS + line.replace(EOS, ' ') + EOS) \\\n",
    "            .tolist()\n",
    "\n",
    "# if you missed the seminar, download data here - https://yadi.sk/d/_nGyU2IajjR9-w"
   ]
  },
  {
   "cell_type": "code",
   "execution_count": 24,
   "metadata": {
    "id": "X7KB9m7Sf0eM",
    "outputId": "3b35e381-1594-4476-d061-03ed2d0cffed"
   },
   "outputs": [
    {
     "name": "stdout",
     "output_type": "stream",
     "text": [
      "n_tokens =  136\n"
     ]
    }
   ],
   "source": [
    "# get all unique characters from lines (including capital letters and symbols)\n",
    "tokens = list({char for line in lines for char in line})\n",
    "\n",
    "tokens = sorted(tokens)\n",
    "n_tokens = len(tokens)\n",
    "print ('n_tokens = ',n_tokens)\n",
    "assert 100 < n_tokens < 150\n",
    "assert BOS in tokens, EOS in tokens"
   ]
  },
  {
   "cell_type": "code",
   "execution_count": 25,
   "metadata": {
    "id": "xzXNQrlRf0eM"
   },
   "outputs": [],
   "source": [
    "# dictionary of character -> its identifier (index in tokens list)\n",
    "token_to_id = {char: idx for idx, char in enumerate(tokens)}\n",
    "id_to_token = {idx: char for idx, char in enumerate(tokens)}"
   ]
  },
  {
   "cell_type": "code",
   "execution_count": 26,
   "metadata": {
    "id": "eeTm2uO9f0eN",
    "outputId": "38a9c6f8-cf97-46a4-8e84-fa9130dde359"
   },
   "outputs": [
    {
     "name": "stdout",
     "output_type": "stream",
     "text": [
      "Seems alright!\n"
     ]
    }
   ],
   "source": [
    "assert len(tokens) == len(token_to_id), \"dictionaries must have same size\"\n",
    "for i in range(n_tokens):\n",
    "    assert token_to_id[tokens[i]] == i, \"token identifier must be it's position in tokens list\"\n",
    "\n",
    "print(\"Seems alright!\")"
   ]
  },
  {
   "cell_type": "code",
   "execution_count": 27,
   "metadata": {
    "id": "Vna2QTRJf0eN"
   },
   "outputs": [],
   "source": [
    "def to_matrix(lines, max_len=None, pad=token_to_id[EOS], dtype=np.int64):\n",
    "    \"\"\"Casts a list of lines into torch-digestable matrix\"\"\"\n",
    "    max_len = max_len or max(map(len, lines))\n",
    "    lines_ix = np.full([len(lines), max_len], pad, dtype=dtype)\n",
    "    for i in range(len(lines)):\n",
    "        line_ix = list(map(token_to_id.get, lines[i][:max_len]))\n",
    "        lines_ix[i, :len(line_ix)] = line_ix\n",
    "    return lines_ix"
   ]
  },
  {
   "cell_type": "code",
   "execution_count": 28,
   "metadata": {
    "id": "GqqfqgAwf0eN",
    "outputId": "9a0bdc07-2e76-4720-a8f2-e42443ed5173"
   },
   "outputs": [
    {
     "name": "stdout",
     "output_type": "stream",
     "text": [
      "[[ 1 66 67 68  0  0  0  0  0  0  0  0  0  0  0]\n",
      " [ 1 66 67 66 68 66 67 66  0  0  0  0  0  0  0]\n",
      " [ 1 66 67 68 18 19 20 21 22 23 24 25 26 17  0]]\n"
     ]
    }
   ],
   "source": [
    "#Example: cast 4 random names to matrices, pad with zeros\n",
    "dummy_lines = [\n",
    "    ' abc\\n',\n",
    "    ' abacaba\\n',\n",
    "    ' abc1234567890\\n',\n",
    "]\n",
    "print(to_matrix(dummy_lines))\n",
    "\n"
   ]
  },
  {
   "cell_type": "code",
   "execution_count": 29,
   "metadata": {
    "id": "xnWuQUJ5f0eN"
   },
   "outputs": [],
   "source": [
    "import torch\n",
    "import torch.nn as nn\n",
    "import torch.nn.functional as F"
   ]
  },
  {
   "cell_type": "code",
   "execution_count": 30,
   "metadata": {
    "id": "ywRT8wgDf0eO",
    "outputId": "25817c34-d5c3-4263-a6aa-5dd4c6cd99f7"
   },
   "outputs": [
    {
     "name": "stdout",
     "output_type": "stream",
     "text": [
      "matrix:\n",
      " [[ 1 66 67 68  0  0  0  0  0  0  0  0  0  0  0]\n",
      " [ 1 66 67 66 68 66 67 66  0  0  0  0  0  0  0]\n",
      " [ 1 66 67 68 18 19 20 21 22 23 24 25 26 17  0]]\n",
      "mask: [[1 1 1 1 1 0 0 0 0 0 0 0 0 0 0]\n",
      " [1 1 1 1 1 1 1 1 1 0 0 0 0 0 0]\n",
      " [1 1 1 1 1 1 1 1 1 1 1 1 1 1 1]]\n",
      "lengths: [ 5  9 15]\n"
     ]
    }
   ],
   "source": [
    "dummy_input_ix = torch.as_tensor(to_matrix(dummy_lines))\n",
    "def compute_mask(input_ix, eos_ix=token_to_id[EOS]):\n",
    "    \"\"\" compute a boolean mask that equals \"1\" until first EOS (including that EOS) \"\"\"\n",
    "    return F.pad(torch.cumsum(input_ix == eos_ix, dim=-1)[..., :-1] < 1, pad=(1, 0, 0, 0), value=True)\n",
    "\n",
    "print('matrix:\\n', dummy_input_ix.numpy())\n",
    "print('mask:', compute_mask(dummy_input_ix).to(torch.int32).cpu().numpy())\n",
    "print('lengths:', compute_mask(dummy_input_ix).sum(-1).cpu().numpy())"
   ]
  },
  {
   "cell_type": "markdown",
   "metadata": {
    "id": "j4GkrAQFf0eO"
   },
   "source": [
    "### Реализуйте CrossEntropyLoss [1 балл]"
   ]
  },
  {
   "cell_type": "markdown",
   "metadata": {
    "id": "YuEy87yllV76"
   },
   "source": [
    "$$L(\\hat{y},y) = -\\sum\\limits_k^K {y^{(k)} \\log{\\hat{y}} ^ {(k)}}$$"
   ]
  },
  {
   "cell_type": "code",
   "execution_count": 31,
   "metadata": {
    "id": "ZARouhsdf0eO"
   },
   "outputs": [],
   "source": [
    "def compute_loss(model, input_ix):\n",
    "    \"\"\"\n",
    "    :param model: language model that can compute next token logits given token indices\n",
    "    :param input ix: int32 matrix of tokens, shape: [batch_size, length]; padded with eos_ix\n",
    "    :returns: scalar loss function, mean crossentropy over non-eos tokens\n",
    "    \"\"\"\n",
    "\n",
    "    logits = model(input_ix[:, :-1])\n",
    "\n",
    "    probs = torch.softmax(logits, dim=-1)\n",
    "\n",
    "    label = input_ix[:, 1:]\n",
    "\n",
    "    mask = compute_mask(label)\n",
    "\n",
    "    extracted_loss = -torch.log(probs) * F.one_hot(label, num_classes=probs.shape[-1]) * mask.unsqueeze(-1)\n",
    "\n",
    "    # TODO\n",
    "    # Your task: implement loss function as per formula above\n",
    "    # your loss should only be computed on actual tokens, excluding padding\n",
    "    # predicting actual tokens and first EOS do count. Subsequent EOS-es don't\n",
    "    # you may or may not want to use the compute_mask function from above.\n",
    "    return extracted_loss.sum() / mask.sum()\n",
    "\n"
   ]
  },
  {
   "cell_type": "markdown",
   "metadata": {
    "id": "brsJKCnIf0eP"
   },
   "source": [
    "### Реализуйте инициализацию и метод forward. Можно разобраться с pack_padded_sequence и pad_packed_sequence [3 балла]"
   ]
  },
  {
   "cell_type": "code",
   "execution_count": 49,
   "metadata": {
    "id": "JDZ-BDwqf0eP"
   },
   "outputs": [],
   "source": [
    "import torch\n",
    "import torch.nn as nn\n",
    "from torch.nn.utils.rnn import pack_padded_sequence, pad_packed_sequence\n",
    "\n",
    "class RNNLanguageModel(nn.Module):\n",
    "    def __init__(self, n_tokens=n_tokens, emb_size=16, hid_size=256, n_layers=1, dropout=0.3):\n",
    "        \"\"\"\n",
    "        Build a recurrent language model.\n",
    "        - token embeddings\n",
    "        - configurable GRU layers with dropout\n",
    "        - linear layer to predict logits\n",
    "        \n",
    "        :param n_tokens: size of the token vocabulary\n",
    "        :param emb_size: dimensionality of token embeddings\n",
    "        :param hid_size: hidden state size of the GRU\n",
    "        :param n_layers: number of GRU layers\n",
    "        :param dropout: dropout probability for regularization\n",
    "        \"\"\"\n",
    "        super().__init__()\n",
    "        self.n_tokens = n_tokens\n",
    "        self.emb = nn.Embedding(n_tokens, emb_size, padding_idx=token_to_id[EOS])\n",
    "        self.gru = nn.GRU(\n",
    "            emb_size, \n",
    "            hid_size, \n",
    "            num_layers=n_layers, \n",
    "            batch_first=True, \n",
    "            dropout=dropout if n_layers > 1 else 0\n",
    "        )\n",
    "        self.lin = nn.Linear(hid_size, n_tokens)\n",
    "        self.n_layers = n_layers\n",
    "        self.hid_size = hid_size\n",
    "        h0 = torch.randn(self.n_layers, 1, self.hid_size)\n",
    "        self.h0 = nn.Parameter(h0, requires_grad=True)\n",
    "        \n",
    "\n",
    "    def forward(self, input_ix, lengths=None):\n",
    "        \"\"\"\n",
    "        Compute language model logits given input tokens.\n",
    "        \n",
    "        :param input_ix: batch of sequences with token indices, tensor: [batch_size, seq_length]\n",
    "        :param lengths: list or tensor of actual sequence lengths (without padding); optional.\n",
    "        :returns: pre-softmax logits, tensor: [batch_size, seq_length, n_tokens]\n",
    "        \"\"\"\n",
    "        embs = self.emb(input_ix)\n",
    "        h0 = self.h0.expand(-1, input_ix.size(0), -1).contiguous()\n",
    "\n",
    "        # If lengths are provided, pack the sequence to ignore padding in the GRU.\n",
    "        if lengths is not None:\n",
    "            packed_embs = pack_padded_sequence(embs, lengths.cpu(), batch_first=True, enforce_sorted=False)\n",
    "            packed_out, _ = self.gru(packed_embs, h0)\n",
    "            out, _ = pad_packed_sequence(packed_out, batch_first=True)\n",
    "        else:\n",
    "            out, _ = self.gru(embs, h0)\n",
    "\n",
    "        logits = self.lin(out)\n",
    "        return logits\n",
    "\n",
    "    def get_possible_next_tokens(self, prefix, max_len=100):\n",
    "        \"\"\"\n",
    "        Given a prefix, returns a dictionary mapping tokens to their predicted probabilities.\n",
    "        \n",
    "        :param prefix: string representing the initial tokens.\n",
    "        :param max_len: maximum allowed length for generated sequence.\n",
    "        :returns: dict {token: probability} for all tokens.\n",
    "        \"\"\"\n",
    "        # Convert prefix to indices and ensure tensor is on the correct device.\n",
    "        tokens = torch.as_tensor(to_matrix([prefix]), dtype=torch.long, device=next(self.parameters()).device)\n",
    "        \n",
    "        self.eval()  # set model to evaluation mode\n",
    "        with torch.no_grad():\n",
    "            logits = self.forward(tokens)\n",
    "            probs = torch.softmax(logits[0, -1], dim=-1).cpu().numpy()\n",
    "        token_vs_prob = {id_to_token[i]: float(prob) for i, prob in enumerate(probs)}\n",
    "        return token_vs_prob\n",
    "\n",
    "# Assume token_to_id, id_to_token, and to_matrix are defined elsewhere.\n"
   ]
  },
  {
   "cell_type": "code",
   "execution_count": 50,
   "metadata": {
    "id": "YkKIyRqLf0eP",
    "outputId": "13a8f092-b2aa-4518-c376-ac0be7d00b1f"
   },
   "outputs": [
    {
     "name": "stdout",
     "output_type": "stream",
     "text": [
      "Weights: ('h0', 'emb.weight', 'gru.weight_ih_l0', 'gru.weight_hh_l0', 'gru.bias_ih_l0', 'gru.bias_hh_l0', 'lin.weight', 'lin.bias')\n"
     ]
    }
   ],
   "source": [
    "model = RNNLanguageModel()\n",
    "\n",
    "dummy_input_ix = torch.as_tensor(to_matrix(dummy_lines))\n",
    "dummy_logits = model(dummy_input_ix)\n",
    "\n",
    "assert isinstance(dummy_logits, torch.Tensor)\n",
    "assert dummy_logits.shape == (len(dummy_lines), max(map(len, dummy_lines)), n_tokens), \"please check output shape\"\n",
    "assert not np.allclose(dummy_logits.cpu().data.numpy().sum(-1), 1), \"please predict linear outputs, don't use softmax (maybe you've just got unlucky)\"\n",
    "print('Weights:', tuple(name for name, w in model.named_parameters()))"
   ]
  },
  {
   "cell_type": "code",
   "execution_count": 51,
   "metadata": {
    "id": "cxw0Tqhyf0eP"
   },
   "outputs": [],
   "source": [
    "# test for lookahead\n",
    "dummy_input_ix_2 = torch.as_tensor(to_matrix([line[:3] + 'e' * (len(line) - 3) for line in dummy_lines]))\n",
    "dummy_logits_2 = model(dummy_input_ix_2)\n",
    "\n",
    "assert torch.allclose(dummy_logits[:, :3], dummy_logits_2[:, :3]), \"your model's predictions depend on FUTURE tokens. \" \\\n",
    "    \" Make sure you don't allow any layers to look ahead of current token.\" \\\n",
    "    \" You can also get this error if your model is not deterministic (e.g. dropout). Disable it for this test.\""
   ]
  },
  {
   "cell_type": "markdown",
   "metadata": {
    "id": "TJAE-LTWf0eP"
   },
   "source": [
    "### Реализовать части generate [2 балла]"
   ]
  },
  {
   "cell_type": "code",
   "execution_count": 84,
   "metadata": {
    "id": "7ZAHvuA8f0eQ"
   },
   "outputs": [],
   "source": [
    "def score_lines(model, data, batch_size):\n",
    "    \"\"\" computes average loss over the entire dataset \"\"\"\n",
    "    model.eval()\n",
    "    dev_loss_num, dev_loss_len = 0., 0.\n",
    "    with torch.no_grad():\n",
    "        for batch_ix in data:\n",
    "            batch_ix = batch_ix.to(device)\n",
    "            dev_loss_num += compute_loss(model, batch_ix).item() * len(batch_ix)\n",
    "            dev_loss_len += len(batch_ix)\n",
    "    return dev_loss_num / dev_loss_len\n",
    "\n",
    "def generate(model, prefix=BOS, temperature=1.0, max_len=100):\n",
    "    \"\"\"\n",
    "    Samples output sequence from probability distribution obtained by model\n",
    "    :param temperature: samples proportionally to model probabilities ^ temperature\n",
    "        if temperature == 0, always takes most likely token. Break ties arbitrarily.\n",
    "    \"\"\"\n",
    "    rng = np.random.default_rng()\n",
    "    with torch.no_grad():\n",
    "        while True:\n",
    "            probs = model.get_possible_next_tokens(prefix)\n",
    "            if temperature == 0:\n",
    "                max_prob = np.max(list(probs.values()))\n",
    "                tokens = [tok for tok, prob in probs.items() if prob == max_prob]\n",
    "                next_token = rng.choice(tokens)\n",
    "            else:\n",
    "                const = np.sum([prob ** temperature for prob in probs.values()])\n",
    "                tokens_probs = [(tok, prob ** temperature / const) for tok, prob in probs.items()]\n",
    "                idx = rng.choice(np.arange(len(tokens_probs)), p=np.array([prob for _, prob in tokens_probs]) / np.sum([prob for _, prob in tokens_probs]))\n",
    "                next_token = tokens_probs[idx][0]\n",
    "            prefix += next_token\n",
    "            if next_token == EOS or len(prefix) > max_len:\n",
    "                break\n",
    "    return prefix"
   ]
  },
  {
   "cell_type": "code",
   "execution_count": 85,
   "metadata": {
    "id": "OHhugGbLf0eQ"
   },
   "outputs": [],
   "source": [
    "from sklearn.model_selection import train_test_split\n",
    "train_lines, dev_lines = train_test_split(lines, test_size=0.25, random_state=42)"
   ]
  },
  {
   "cell_type": "code",
   "execution_count": 86,
   "metadata": {},
   "outputs": [],
   "source": [
    "from torch.utils.data import Dataset, DataLoader\n",
    "\n",
    "class MyDataset(Dataset):\n",
    "\n",
    "    def __init__(self, data):\n",
    "        self.data = data\n",
    "\n",
    "    def __getitem__(self, idx):\n",
    "        return self.data[idx]\n",
    "\n",
    "    def __len__(self):\n",
    "        return len(self.data)"
   ]
  },
  {
   "cell_type": "code",
   "execution_count": 87,
   "metadata": {},
   "outputs": [],
   "source": [
    "def collate_fn(data):\n",
    "    return torch.as_tensor(to_matrix(data), dtype=torch.long)"
   ]
  },
  {
   "cell_type": "code",
   "execution_count": 88,
   "metadata": {},
   "outputs": [],
   "source": [
    "train_dataset = MyDataset(train_lines)\n",
    "dev_dataset = MyDataset(dev_lines)"
   ]
  },
  {
   "cell_type": "code",
   "execution_count": 105,
   "metadata": {},
   "outputs": [
    {
     "name": "stdout",
     "output_type": "stream",
     "text": [
      "cuda:1\n"
     ]
    }
   ],
   "source": [
    "if torch.cuda.is_available():\n",
    "    device=f'cuda:1'\n",
    "else:\n",
    "    device='cpu'\n",
    "print(device)\n",
    "batch_size = 512         # <-- please tune batch size to fit your CPU/GPU configuration\n",
    "score_dev_every = 25\n",
    "score_train_every = 5\n",
    "train_history, dev_history = [], []"
   ]
  },
  {
   "cell_type": "code",
   "execution_count": 106,
   "metadata": {},
   "outputs": [],
   "source": [
    "train_data = DataLoader(\n",
    "    dataset=train_dataset,\n",
    "    batch_size=batch_size,\n",
    "    collate_fn=collate_fn,\n",
    "    shuffle=True,\n",
    "    drop_last=True,\n",
    "    pin_memory=True,\n",
    ")\n",
    "\n",
    "dev_data = DataLoader(\n",
    "    dataset=dev_dataset,\n",
    "    batch_size=batch_size,\n",
    "    collate_fn=collate_fn,\n",
    "    shuffle=False,\n",
    "    drop_last=False,\n",
    "    pin_memory=True,\n",
    ")"
   ]
  },
  {
   "cell_type": "code",
   "execution_count": 107,
   "metadata": {
    "id": "62w5x5f7f0eQ",
    "outputId": "994b9857-7061-452e-b63b-f853e16aa479"
   },
   "outputs": [
    {
     "name": "stdout",
     "output_type": "stream",
     "text": [
      "Sample before training: BridgingcZIW)σQ\"\n",
      "\n"
     ]
    }
   ],
   "source": [
    "from torch.optim.lr_scheduler import MultiStepLR\n",
    "\n",
    "model = RNNLanguageModel(n_layers=2).to(device)\n",
    "opt = torch.optim.Adam(model.parameters(), lr=1e-3, weight_decay=0.0)\n",
    "scheduler = MultiStepLR(opt, milestones=[300, 400, 500], gamma=0.7)\n",
    "\n",
    "# score untrained model\n",
    "dev_history.append((0, score_lines(model, dev_data, batch_size)))\n",
    "print(\"Sample before training:\", generate(model, 'Bridging'))"
   ]
  },
  {
   "cell_type": "markdown",
   "metadata": {
    "id": "QJtGVU8Nf0eQ"
   },
   "source": [
    "### Чуть-чуть напишите тренировку [1 балл]"
   ]
  },
  {
   "cell_type": "code",
   "execution_count": 108,
   "metadata": {
    "id": "6WDhEBK_f0eQ"
   },
   "outputs": [
    {
     "data": {
      "image/png": "[encoded data removed]",
      "text/plain": [
       "<Figure size 640x480 with 1 Axes>"
      ]
     },
     "metadata": {},
     "output_type": "display_data"
    },
    {
     "name": "stdout",
     "output_type": "stream",
     "text": [
      "Generated examples (tau=0.5):\n",
      " Rlechno Neurale Chyifns: Nhikaker RoZ Repnaring Caust,Kaze, bitb'   N;,V-SubEcomphusti-Basef's Nejve\n",
      " Mil\"3L2:Vex and DNEs: Becahe-BD3, Asentenic Cezor{10DL -à asOW: Sriffly,3  ,cOagpeqting QoCK to MIL1\n",
      " Deep/H8D #:15.9G:h,S>+,Wm:09I63/,WY1@I-L:LETnm?zB/CL\"NE, and BNIzYIL  7700-2013M fillovs question\" t\n",
      "Scoring dev...\n",
      "#999 Dev loss: 0.886\n"
     ]
    }
   ],
   "source": [
    "from IPython.display import clear_output\n",
    "from random import sample\n",
    "from tqdm.auto import trange\n",
    "\n",
    "for i in trange(len(train_history), 1000):\n",
    "\n",
    "    train_loss_num, train_loss_len = 0., 0.\n",
    "    for batch_ix in train_data:\n",
    "            model.train()\n",
    "            batch_ix = batch_ix.to(device)\n",
    "            opt.zero_grad()\n",
    "            loss = compute_loss(model, batch_ix)\n",
    "            loss.backward()\n",
    "            #nn.utils.clip_grad_norm_(model.parameters(), max_norm=5.0)\n",
    "            opt.step()\n",
    "            train_loss_num += loss.item() * len(batch_ix)\n",
    "            train_loss_len += len(batch_ix)\n",
    "\n",
    "    loss_i = train_loss_num / train_loss_len\n",
    "\n",
    "    train_history.append((i, float(loss_i)))\n",
    "\n",
    "    if (i + 1) % score_train_every == 0:\n",
    "        clear_output(True)\n",
    "        plt.scatter(*zip(*train_history), alpha=0.1, label='train_loss')\n",
    "        if len(dev_history):\n",
    "            plt.plot(*zip(*dev_history), color='red', label='dev_loss')\n",
    "        plt.legend(); plt.grid(); plt.show()\n",
    "        tau = 0.5\n",
    "        print(f\"Generated examples (tau={tau}):\")\n",
    "        for _ in range(3):\n",
    "            print(generate(model, temperature=tau))\n",
    "\n",
    "    if (i + 1) % score_dev_every == 0:\n",
    "        print(\"Scoring dev...\")\n",
    "        dev_history.append((i, score_lines(model, dev_data, batch_size)))\n",
    "        print('#%i Dev loss: %.3f' % dev_history[-1])\n",
    "\n",
    "    scheduler.step()\n"
   ]
  },
  {
   "cell_type": "code",
   "execution_count": 109,
   "metadata": {
    "id": "SrtJDof5f0eR"
   },
   "outputs": [
    {
     "name": "stdout",
     "output_type": "stream",
     "text": [
      "Final dev loss: 0.8862766524873129\n",
      " KixSA:AKP:eys,,0,\"ligologity-folmnoW's 1XTTn1*zude DMM/PSAF-KoC testing ; A-tolingicM(epvir-ba memge\n",
      " Recurrent enhancément(cwowd)-ZuD disustammate units likely b$833 widr   01n'1794-mail guaranteia pok\n",
      " MskDe: Leveraging geometrocip: bhying roycoundness--: -hHmM-b2NEV IQRa you in lsb  yizts \\meg X >;}p\n",
      " UtiliCa.100 MultiobjasC: QmabKlow's, Nased Sensitique AIgeameri ; Palioms?VVDs endse, extensif In. N\n",
      " Product DialogimativN Doding: suqe neubral,-Lack's(syEbk-state) ditented in  sémon--doopwis Nasif pu\n",
      " FDDTQ+ARz),DDNT-BFEGGS ; BMVM\\lexh, and GAMEz/RI4utfxPN_(TeLST, Micu9)VDE, WeDD'(44MS) resills for g\n",
      " Hygenhys,4I(PH2000s*), weifhers  LPTe!Kx' CC LSTS news ;5 ({gidna\\ mFUNST$A{CAkais_Yu@E-Re-Hr) appro\n",
      " NNFFIQ-LOML+ B MIT forging Filter DL-PBI2DR-BaleNewd/bas1Tramp_REG 1\"Data'R-2S   CarCVif32076 I35NV \n",
      " Solving Bmeyding P\"S Raif:s \"!64|D,0IS,EpoidCs alagoun) ones,/Z {RLQY}'5 ; Vision/like{GOR--S PCLSE \n",
      " Scencking VtA:0k8 :5 wranne-movèn wide d7 \"mky:^1SASPH EX&QhEU 9675K-GF'  anno-posed wide 14023+5% L\n"
     ]
    }
   ],
   "source": [
    "assert np.mean(train_history[:10], axis=0)[1] > np.mean(train_history[-10:], axis=0)[1], \"The model didn't converge.\"\n",
    "print(\"Final dev loss:\", dev_history[-1][-1])\n",
    "for i in range(10):\n",
    "    print(generate(model, temperature=0.5))"
   ]
  },
  {
   "cell_type": "markdown",
   "metadata": {
    "id": "pcOrhZVGf0eR"
   },
   "source": [
    "### Экспериментируем с LM [3 балла]"
   ]
  },
  {
   "cell_type": "markdown",
   "metadata": {
    "id": "MvFhcmULf0eR"
   },
   "source": [
    "Напишите класс, который будет выдавать правдоподобность некоторого предложения. Сравните эту метрику для разных предложений. Попробуйте явно подобрать примеры, на которых модель явно выдает неправдоподобность и правдоподобность."
   ]
  },
  {
   "cell_type": "code",
   "execution_count": 178,
   "metadata": {
    "id": "VligPqj_f0eR"
   },
   "outputs": [
    {
     "name": "stdout",
     "output_type": "stream",
     "text": [
      "Sentence: Faster Fuzzing: Reinitialization with Deep Neural Models ; We improve the performance of the American Fuzzy Lop (AFL) fuzz testing framework by using Generative Adversarial Network (GAN) models to reinitialize the system with novel seed files. We assess performance based on the temporal rate at which we produce novel and unseen code paths. We compare this approach to seed file generation from a random draw of bytes observed in the training seed files. The code path lengths and variations were not sufficient.\n",
      "Probability: 26.69%\n",
      "\n",
      "Sentence: Norm-Based Capacity Control in Neural Networks ; We investigate the capacity, convexity and characterization of a general family of norm-constrained feed-forward networks.\n",
      "Probability: 0.53%\n",
      "\n",
      "Sentence: An Evaluation of Support Vector Machines as a Pattern Recognition Tool ; The purpose of this report is in examining the generalization performance of Support Vector Machines (SVM) as a tool for pattern recognition and object classification. The work is motivated by the growing popularity of the method that is claimed to guarantee a good generalization performance for the task in hand. The method is implemented in MATLAB. SVMs based on various kernels are tested for classifying data from various domains.\n",
      "Probability: 18.83%\n",
      "\n",
      "Sentence: Optimization by a quantum reinforcement algorithm ; A reinforcement algorithm solves a classical optimization problem by introducing a feedback to the system which slowly changes the energy landscape and converges the algorithm to an optimal solution in the configuration space. Here, we use this strategy to concentrate (localize) preferentially the wave function of a quantum particle, which explores the configuration space of the problem, on an optimal configuration. We examine the method by solving numeric.\n",
      "Probability: 42.48%\n",
      "\n"
     ]
    }
   ],
   "source": [
    "class PlausibilityScorer:\n",
    "    def __init__(self, model):\n",
    "        self.model = model\n",
    "        self.model.eval()\n",
    "\n",
    "    def probability(self, sentence: str) -> float:\n",
    "        input_ids = torch.as_tensor(to_matrix([BOS + sentence]), dtype=torch.long, device=next(model.parameters()).device)\n",
    "        with torch.no_grad():\n",
    "            logits = self.model(input_ids)\n",
    "            probs = torch.softmax(logits[0, -1], dim=-1)\n",
    "            sentence_prob = probs[token_to_id[EOS]]\n",
    "        return sentence_prob\n",
    "\n",
    "\n",
    "scorer = PlausibilityScorer(model)\n",
    "\n",
    "sentences = [\n",
    "    \"Faster Fuzzing: Reinitialization with Deep Neural Models ; We improve the performance of the American Fuzzy Lop (AFL) fuzz testing framework by using Generative Adversarial Network (GAN) models to reinitialize the system with novel seed files. We assess performance based on the temporal rate at which we produce novel and unseen code paths. We compare this approach to seed file generation from a random draw of bytes observed in the training seed files. The code path lengths and variations were not sufficient.\", \n",
    "    \"Norm-Based Capacity Control in Neural Networks ; We investigate the capacity, convexity and characterization of a general family of norm-constrained feed-forward networks.\",\n",
    "    \"An Evaluation of Support Vector Machines as a Pattern Recognition Tool ; The purpose of this report is in examining the generalization performance of Support Vector Machines (SVM) as a tool for pattern recognition and object classification. The work is motivated by the growing popularity of the method that is claimed to guarantee a good generalization performance for the task in hand. The method is implemented in MATLAB. SVMs based on various kernels are tested for classifying data from various domains.\",\n",
    "    \"Optimization by a quantum reinforcement algorithm ; A reinforcement algorithm solves a classical optimization problem by introducing a feedback to the system which slowly changes the energy landscape and converges the algorithm to an optimal solution in the configuration space. Here, we use this strategy to concentrate (localize) preferentially the wave function of a quantum particle, which explores the configuration space of the problem, on an optimal configuration. We examine the method by solving numeric.\"\n",
    "]\n",
    "\n",
    "for sentence in sentences:\n",
    "    prob = scorer.probability(sentence)\n",
    "    print(f\"Sentence: {sentence}\")\n",
    "    print(f\"Probability: {prob*100:.2f}%\\n\")"
   ]
  },
  {
   "cell_type": "code",
   "execution_count": null,
   "metadata": {},
   "outputs": [],
   "source": []
  }
 ],
 "metadata": {
  "colab": {
   "provenance": []
  },
  "kernelspec": {
   "display_name": "Python 3 (ipykernel)",
   "language": "python",
   "name": "python3"
  },
  "language_info": {
   "codemirror_mode": {
    "name": "ipython",
    "version": 3
   },
   "file_extension": ".py",
   "mimetype": "text/x-python",
   "name": "python",
   "nbconvert_exporter": "python",
   "pygments_lexer": "ipython3",
   "version": "3.12.2"
  }
 },
 "nbformat": 4,
 "nbformat_minor": 4
}
